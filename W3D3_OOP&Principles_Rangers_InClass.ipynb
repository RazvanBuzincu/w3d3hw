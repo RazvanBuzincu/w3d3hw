{
 "cells": [
  {
   "cell_type": "markdown",
   "metadata": {},
   "source": [
    " <h1 align = center> Principles of Object Oriented Programming </h1>"
   ]
  },
  {
   "cell_type": "markdown",
   "metadata": {},
   "source": [
    "#### 4 principles\n",
    "- Encapsulation\n",
    "- Inheritance\n",
    "- Polymorphism\n",
    "- Abstraction\n"
   ]
  },
  {
   "cell_type": "markdown",
   "metadata": {},
   "source": [
    "## ENCAPSULATION"
   ]
  },
  {
   "cell_type": "markdown",
   "metadata": {},
   "source": [
    "In encapsulation, the variables of a class can be made hidden from other classes, and can be accessed only through the methods of their current class. Therefore, it is also known as data hiding.\n",
    "<br><br>\n",
    "Encapsulation can be described as a protective barrier that prevents the code and data being randomly accessed by other code defined outside the class. Access to the data and code is tightly controlled by a class."
   ]
  },
  {
   "cell_type": "code",
   "execution_count": 24,
   "metadata": {},
   "outputs": [],
   "source": [
    "from datetime import timedelta, date\n",
    "from IPython.display import Image\n",
    "import requests\n",
    "from time import sleep\n",
    "\n",
    "generic_image = 'codeflix.png'\n"
   ]
  },
  {
   "cell_type": "code",
   "execution_count": 4,
   "metadata": {},
   "outputs": [
    {
     "name": "stdout",
     "output_type": "stream",
     "text": [
      "Cool Video Title\n"
     ]
    },
    {
     "name": "stdin",
     "output_type": "stream",
     "text": [
      "What are you watching?  The Wire\n"
     ]
    },
    {
     "name": "stdout",
     "output_type": "stream",
     "text": [
      "You are watching: The Wire\n"
     ]
    }
   ],
   "source": [
    "class TestVideo():\n",
    "    def __init__(self):\n",
    "        self.title = None\n",
    "\n",
    "    def add_title(self):\n",
    "        new_title = input(\"What are you watching? \")\n",
    "        self.title = new_title\n",
    "        self.display_title()\n",
    "\n",
    "    def display_title(self):\n",
    "        print(f\"You are watching: {self.title}\")\n",
    "\n",
    "\n",
    "\n",
    "\n",
    "\n",
    "my_video = TestVideo()\n",
    "my_video.title = \"Cool Video Title\"\n",
    "print(my_video.title)\n",
    "my_video.add_title()\n"
   ]
  },
  {
   "cell_type": "code",
   "execution_count": 25,
   "metadata": {},
   "outputs": [],
   "source": [
    "# attributes from instances are unique to that instance\n",
    "# attributes are \"protected\" by the class itself and can have further protection at various levels based on access modifiers \n",
    "\n",
    "class Video:\n",
    "    def __init__(self):\n",
    "        self.title = None\n",
    "        self.length = timedelta()\n",
    "        self.link = generic_image\n",
    "\n",
    "    def play(self):\n",
    "        print(f\"Now playing {self.title}\")\n",
    "        display(Image(url=self.link))\n",
    "\n",
    "    def __len__(self):\n",
    "        return self.length\n",
    "\n",
    "    def __repr__(self):\n",
    "        return f\"{self.title} is {self.length.seconds} seconds long\"\n",
    "        "
   ]
  },
  {
   "cell_type": "markdown",
   "metadata": {},
   "source": [
    "## INHERITANCE"
   ]
  },
  {
   "cell_type": "markdown",
   "metadata": {},
   "source": [
    "Inheritance can be defined as the process where one class acquires the properties (methods and fields) of another.\n",
    "<br>\n",
    "<i>(see above)</i>"
   ]
  },
  {
   "cell_type": "code",
   "execution_count": 40,
   "metadata": {},
   "outputs": [],
   "source": [
    "# episode inherits from video class\n",
    "class Episode(Video):\n",
    "    def __init__(self, data):\n",
    "        super().__init__()\n",
    "        self.number = data[\"number\"]\n",
    "        self.season = data[\"season\"]\n",
    "        self.date_aired = data[\"airdate\"]\n",
    "        self.summary = data[\"summary\"]\n",
    "        self.rating = data[\"rating\"][\"average\"]\n",
    "        self.title = data[\"name\"]\n",
    "        self.lenght = timedelta(minutes = data[\"runtime\"])\n",
    "        if data[\"image\"]:\n",
    "            self.link = data[\"image\"][\"medium\"]\n",
    "\n",
    "\n"
   ]
  },
  {
   "cell_type": "markdown",
   "metadata": {},
   "source": [
    "## POLYMORPHISM"
   ]
  },
  {
   "cell_type": "markdown",
   "metadata": {},
   "source": [
    "In object-oriented programming, polymorphism (from the Greek meaning “having multiple forms”) is the characteristic of being able to assign a different meaning or usage to something in different contexts — specifically, to allow an entity such as a function, or an object to have more than one form.\n",
    "<br><br>\n"
   ]
  },
  {
   "cell_type": "code",
   "execution_count": 44,
   "metadata": {},
   "outputs": [],
   "source": [
    "class Series():\n",
    "    def __init__(self):\n",
    "        self.id = None\n",
    "        self.network = None\n",
    "        self.seasons = None\n",
    "        self.sumary = None\n",
    "        self.title = None\n",
    "        self.genres = []\n",
    "        self.episodes = []\n",
    "\n",
    "    def get_info(self, query=\"\"):\n",
    "        data = None # in case we cant find the show we are looking for\n",
    "        while not data: # loop as long as we dont find and set data from a series\n",
    "            if not query: # if we dont pass a query argument\n",
    "                query = input(\"What is the name of the series? \")\n",
    "\n",
    "            r = requests.get(f\"https://api.tvmaze.com/singlesearch/shows?q={query}\")\n",
    "            if r.status_code == 200:\n",
    "                data = r.json()\n",
    "\n",
    "            else:\n",
    "                print(f\"Series Error: status_code {r.status_code}\")\n",
    "\n",
    "        # using data to set our attributes\n",
    "        self.id = data[\"id\"]\n",
    "        self.title = data[\"name\"]\n",
    "        self.genres = data[\"genres\"]\n",
    "        if data[\"network\"]:\n",
    "            self.network = data[\"network\"][\"name\"]\n",
    "        else:\n",
    "            self.network = data[\"webChannel\"][\"name\"]\n",
    "\n",
    "        # api call for episodes\n",
    "        r = requests.get(f\"https://api.tvmaze.com/shows/{self.id}/episodes\")\n",
    "        if r.status_code == 200:\n",
    "            episode_data = r.json()\n",
    "        else:\n",
    "            print(f\"Episode error: status code {r.status_code}\")\n",
    "\n",
    "        self.season = episode_data[-1][\"season\"] # last dictionary on the list, which is also the last season\n",
    "        self.episodes = [Episode(ep) for ep in episode_data] # another class as an attribute -object composition-\n",
    "        print(f\"{self.title} has {len(self.episodes)} episodes\")\n",
    "\n",
    "    def watch(self):\n",
    "        for i in range(len(self.episodes)):\n",
    "            if i > 0 and i % 3 == 0:\n",
    "                watching = input(\"Are you still watching? \")\n",
    "                if watching.lower().strip() not in (\"yes\", \"y\"):\n",
    "                    break\n",
    "            self.episodes[i].play()\n",
    "            sleep(self.episodes[i].lenght.seconds/1000)\n",
    "\n",
    "    def __len__(self):\n",
    "        return len(self.episodes)\n",
    "\n",
    "\n",
    "    def __repr__(self):\n",
    "        return f\"Title {self.title}\"\n",
    "\n",
    "\n",
    "    \n",
    "                \n",
    "\n",
    "\n"
   ]
  },
  {
   "cell_type": "code",
   "execution_count": 48,
   "metadata": {},
   "outputs": [],
   "source": [
    "first_show = Series()"
   ]
  },
  {
   "cell_type": "code",
   "execution_count": 49,
   "metadata": {},
   "outputs": [
    {
     "name": "stdin",
     "output_type": "stream",
     "text": [
      "What is the name of the series?  the wire\n"
     ]
    },
    {
     "name": "stdout",
     "output_type": "stream",
     "text": [
      "The Wire has 60 episodes\n"
     ]
    }
   ],
   "source": [
    "first_show.get_info()"
   ]
  },
  {
   "cell_type": "code",
   "execution_count": 50,
   "metadata": {},
   "outputs": [
    {
     "name": "stdout",
     "output_type": "stream",
     "text": [
      "Now playing The Target\n"
     ]
    },
    {
     "data": {
      "text/html": [
       "<img src=\"https://static.tvmaze.com/uploads/images/medium_landscape/94/236937.jpg\"/>"
      ],
      "text/plain": [
       "<IPython.core.display.Image object>"
      ]
     },
     "metadata": {},
     "output_type": "display_data"
    },
    {
     "name": "stdout",
     "output_type": "stream",
     "text": [
      "Now playing The Detail\n"
     ]
    },
    {
     "data": {
      "text/html": [
       "<img src=\"https://static.tvmaze.com/uploads/images/medium_landscape/94/236928.jpg\"/>"
      ],
      "text/plain": [
       "<IPython.core.display.Image object>"
      ]
     },
     "metadata": {},
     "output_type": "display_data"
    },
    {
     "name": "stdout",
     "output_type": "stream",
     "text": [
      "Now playing The Buys\n"
     ]
    },
    {
     "data": {
      "text/html": [
       "<img src=\"https://static.tvmaze.com/uploads/images/medium_landscape/94/236930.jpg\"/>"
      ],
      "text/plain": [
       "<IPython.core.display.Image object>"
      ]
     },
     "metadata": {},
     "output_type": "display_data"
    },
    {
     "name": "stdin",
     "output_type": "stream",
     "text": [
      "Are you still watching?  y\n"
     ]
    },
    {
     "name": "stdout",
     "output_type": "stream",
     "text": [
      "Now playing Old Cases\n"
     ]
    },
    {
     "data": {
      "text/html": [
       "<img src=\"https://static.tvmaze.com/uploads/images/medium_landscape/25/63545.jpg\"/>"
      ],
      "text/plain": [
       "<IPython.core.display.Image object>"
      ]
     },
     "metadata": {},
     "output_type": "display_data"
    },
    {
     "name": "stdout",
     "output_type": "stream",
     "text": [
      "Now playing The Pager\n"
     ]
    },
    {
     "data": {
      "text/html": [
       "<img src=\"https://static.tvmaze.com/uploads/images/medium_landscape/94/236932.jpg\"/>"
      ],
      "text/plain": [
       "<IPython.core.display.Image object>"
      ]
     },
     "metadata": {},
     "output_type": "display_data"
    },
    {
     "name": "stdout",
     "output_type": "stream",
     "text": [
      "Now playing The Wire\n"
     ]
    },
    {
     "data": {
      "text/html": [
       "<img src=\"https://static.tvmaze.com/uploads/images/medium_landscape/94/236933.jpg\"/>"
      ],
      "text/plain": [
       "<IPython.core.display.Image object>"
      ]
     },
     "metadata": {},
     "output_type": "display_data"
    },
    {
     "name": "stdin",
     "output_type": "stream",
     "text": [
      "Are you still watching?  no\n"
     ]
    }
   ],
   "source": [
    "first_show.watch()"
   ]
  },
  {
   "cell_type": "code",
   "execution_count": null,
   "metadata": {},
   "outputs": [],
   "source": [
    "class User:\n",
    "    __idcounter = 1 # class attribute, only yhe class itself is going to interact with\n",
    "\n",
    "    def __init__(self, username, password):\n",
    "        self.username = username\n",
    "        self.password = password[::-2]\n",
    "        self.id = user.__id_counter\n",
    "        User.__id_counter += 1\n",
    "        self.watch_list = []\n",
    "\n",
    "    def __str__(self):\n",
    "        formatted_user = f\"\"\"\n",
    "        {self.id} - {self.username.title()}\n",
    "        pw: {self.password}\n",
    "        \"\"\"\n",
    "\n",
    "    def __repr__(self):\n",
    "        return f\"<User {self.id} | {self.username}\"\n",
    "\n",
    "    def check_password(self, password_guess):\n",
    "        return self.password == password_guess[::-2]\n",
    "        \n",
    "        "
   ]
  },
  {
   "cell_type": "markdown",
   "metadata": {},
   "source": [
    "## ABSTRACTION"
   ]
  },
  {
   "cell_type": "markdown",
   "metadata": {},
   "source": [
    "Abstraction is a process of hiding the implementation details from the user, only the functionality will be provided to the user. We have a bit to do before this becomes visible. But you've seen it before with presenting the user with the option to enter inputs. We then take those input and do something with them.\n",
    "<br><br>"
   ]
  },
  {
   "cell_type": "code",
   "execution_count": null,
   "metadata": {},
   "outputs": [],
   "source": [
    "from datetime import timedelta, date\n",
    "from IPython.display import Image\n",
    "import requests\n",
    "from time import sleep\n",
    "\n",
    "generic_image = \"codeflix.png\"\n",
    "\n",
    "class Theater():\n",
    "\n",
    "    def __init__(self):\n",
    "        self.users = set()\n",
    "        self.current_user = None\n",
    "\n",
    "    # add a user to our collection of users\n",
    "    def add_user(self):\n",
    "        username = input(\"Please enter a username:\")\n",
    "        if username in {u.username for u in self.users}\n",
    "            print(\"User with that name already exists. Please try again!\") #409 , conflict in requests\n",
    "\n",
    "        else:\n",
    "            password = input(\"Please enter your passowrd.\")\n",
    "            user = User(username, password)\n",
    "            self.users.add(user)\n",
    "            print(f\"{user} has been created!!\")\n",
    "\n",
    "        self.login_user()\n",
    "\n",
    "    # chose a user, login\n",
    "    def login_user(self):\n",
    "        username = input(\"What is your username?\")\n",
    "        password = input(\"What is your password?\")\n",
    "\n",
    "        for user in self.users:\n",
    "            if user.username == username and user.check_password(password):\n",
    "                self.current_user = user\n",
    "                print(f\"{user} has logged in!\")\n",
    "                break\n",
    "\n",
    "        else:\n",
    "            print(\"Username and/or password is incorrect\")\n",
    "\n",
    "    def logout(self):\n",
    "        self.current_user = None\n",
    "        print(\"You have succesfully logged out!\")\n",
    "\n",
    "    # update user information\n",
    "    def update_user(self):\n",
    "        # check if we even have a current user\n",
    "        if self.current_user:\n",
    "            print(self.current_user)\n",
    "            new_user = input(\"Please enter the update username or enter skip to keep your current username.\")\n",
    "            if new_user.lower() != \"skip\":\n",
    "                # referencing the current user object, specifically the username attribute\n",
    "                self.current_uername.username = new_user\n",
    "            new_pw = input(\"Please enter the updated password or enter skip to keep the current password.\")\n",
    "            if new_pw.lower() != \"skip\":\n",
    "                #referencing the current user object, specifically the password attrbutes\n",
    "                self.current_user.password = new_pw\n",
    "\n",
    "            print(f\"{self.current_user.username}'s info has been updated!\")\n",
    "        else:\n",
    "            print(\"Please login to update information.\")\n",
    "            self.login_user()\n",
    "\n",
    "#---------------------------- INTERACTING WITHT EHE WATCHLIST ON THE USER------------------------------------\n",
    "\n",
    "    #ADD TO WATCHLIST\n",
    "    def add_to_watchlist(self, query=\"\")\n",
    "        show = Series()\n",
    "        show.get_info(query)\n",
    "        # adding our show (instance of the Series class) to the current_user objects watchlist attribute\n",
    "        self.current_user.watch_list.append(show)\n",
    "\n",
    "        print(f\"{show.title} has been added to the watchlist!\")\n",
    "\n",
    "    # view watchlist\n",
    "    def view_watchlist(self):\n",
    "        for series in self.current_user.watch_list:\n",
    "            print(f\"\\n\\n{series} | Episodes: {len(series)}\")\n",
    "            print(f\"\\nSummary: \\n {series.summary}\")\n",
    "            #                 instance of series, episodes attribute, first episode, link attribute from that first episode object\n",
    "            display(Image(url=series.episodes[0].link))\n",
    "\n",
    "    #delete from watchlist\n",
    "    def delete(self):\n",
    "        print(\"Your current watch list. \")\n",
    "        self.view_watchlist()\n",
    "\n",
    "        response = input(\"What would you like to remove from your watch list? \")\n",
    "        for series in self.current_user.watch_list:\n",
    "            if series.title.title() == response.title():\n",
    "                self.current_user.watch_list.remove(series)\n",
    "                print(f\"{response.title} has been removed from your watch list\")\n",
    "                break\n"
   ]
  },
  {
   "cell_type": "code",
   "execution_count": null,
   "metadata": {},
   "outputs": [],
   "source": [
    "codeflix = Theater()"
   ]
  },
  {
   "cell_type": "code",
   "execution_count": null,
   "metadata": {},
   "outputs": [],
   "source": [
    "codeflix.run()"
   ]
  },
  {
   "cell_type": "markdown",
   "metadata": {},
   "source": [
    "## Exercise 1"
   ]
  },
  {
   "cell_type": "markdown",
   "metadata": {},
   "source": [
    "<p>Describe in your own words the following concepts and give an analogy tying to a real-world concept."
   ]
  },
  {
   "cell_type": "markdown",
   "metadata": {},
   "source": [
    "#### Difference between a Class and an Object"
   ]
  },
  {
   "cell_type": "code",
   "execution_count": null,
   "metadata": {},
   "outputs": [],
   "source": [
    "# When we talk about a \"Class\" we can compare it to a recipe/blueprint of something that tells us the ingredients(attributes)\n",
    "# and steps(methods) that we can use to obtain the final product. A \"Class\" is something that we can use over and over again \n",
    "# because it will have the same \"rules\"\n",
    "\n",
    "# As an analogy a class is like a recipe for pizza lets say and we can use the same recipe to bake multiple pizzas\n",
    "# the attributes would be flour, tomato sauce, mozarella and so on and the methods would be making the dough, baking etc.\n",
    "# An object is an instance of a class, created based on the blueprint provided by the class.\n",
    "# It represents a real-world entity and has its own unique set of values for the attributes defined in the class."
   ]
  },
  {
   "cell_type": "markdown",
   "metadata": {},
   "source": [
    "#### Encapsulation"
   ]
  },
  {
   "cell_type": "code",
   "execution_count": null,
   "metadata": {},
   "outputs": [],
   "source": [
    "# Encapsulation is one of the fundamental principles of object-oriented programming (OOP).\n",
    "# It involves bundling the data (attributes) and methods (functions) that operate on the data into a single unit, often referred to as a class.\n",
    "\n",
    "# In programming, encapsulation helps in organizing code, preventing unauthorized access to data, \n",
    "# and promoting a clean separation between the internal workings of a class and its external usage."
   ]
  },
  {
   "cell_type": "markdown",
   "metadata": {},
   "source": [
    "#### Inheritance"
   ]
  },
  {
   "cell_type": "code",
   "execution_count": null,
   "metadata": {},
   "outputs": [],
   "source": [
    "# Inheritance is another key concept in object-oriented programming. It allows a new class, subclass or derived class, to \n",
    "# inherit the attributes and methods of an existing class (parent class). \n",
    "# This promotes code reuse and establishes a hierarchical relationship between classes.\n",
    "\n",
    "# If the parent class is like the \"Animal\" class, it might have attributes like \"legs\" and methods like \"eat\" and \"sleep.\" \n",
    "# Now, if you create a child class called \"Dog,\" it inherits the \"legs,\" \"eat,\" and \"sleep\" from the \"Animal\" class.\n",
    "# Additionally, the \"Dog\" class can add its own specific behavior, like \"bark.\""
   ]
  },
  {
   "cell_type": "markdown",
   "metadata": {},
   "source": [
    "#### Polymorphism"
   ]
  },
  {
   "cell_type": "code",
   "execution_count": null,
   "metadata": {},
   "outputs": [],
   "source": [
    "# It allows methods to be written to work with objects of a certain base class and its subclasses without knowing their specific types.\n",
    "\n",
    "# It's like a remote control that can have access to the a TV/Home Cinema/Speakers because it doesnst need specifics, it can control things that the devices have in common like volume"
   ]
  },
  {
   "cell_type": "markdown",
   "metadata": {},
   "source": [
    "#### Abstraction"
   ]
  },
  {
   "cell_type": "code",
   "execution_count": null,
   "metadata": {},
   "outputs": [],
   "source": [
    "# Abstraction is a concept in OOP that involves simplifying complex systems by modeling classes based on essential \n",
    "# characteristics and hiding unnecessary details.\n",
    "\n",
    "# Abstraction in programming is like driving a car without knowing every detail of the engine. \n",
    "# You use the steering wheel, pedals, and gear shift without having to know how other things work like the engine or other parts under the hood"
   ]
  },
  {
   "cell_type": "markdown",
   "metadata": {},
   "source": [
    "##  Exercise 2 (Optional):\n",
    "Discuss what other classes, methods, or fields (attributes) we could make to improve our streaming service using these principles. <br> <br>\n",
    "Start making a few of them and see where it leads. Make sure you either write out your thoughts in the below cell  or comment where you added code to the above Classes."
   ]
  },
  {
   "cell_type": "code",
   "execution_count": null,
   "metadata": {},
   "outputs": [],
   "source": []
  }
 ],
 "metadata": {
  "kernelspec": {
   "display_name": "Python 3 (ipykernel)",
   "language": "python",
   "name": "python3"
  },
  "language_info": {
   "codemirror_mode": {
    "name": "ipython",
    "version": 3
   },
   "file_extension": ".py",
   "mimetype": "text/x-python",
   "name": "python",
   "nbconvert_exporter": "python",
   "pygments_lexer": "ipython3",
   "version": "3.12.1"
  }
 },
 "nbformat": 4,
 "nbformat_minor": 4
}
